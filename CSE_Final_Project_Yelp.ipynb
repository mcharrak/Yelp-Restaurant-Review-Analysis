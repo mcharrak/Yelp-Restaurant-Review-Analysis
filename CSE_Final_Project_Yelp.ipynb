{
 "cells": [
  {
   "cell_type": "code",
   "execution_count": 1,
   "metadata": {
    "collapsed": true
   },
   "outputs": [],
   "source": [
    "# Import packages\n",
    "import numpy as np\n",
    "import pandas as pd\n",
    "import matplotlib.pyplot as plt\n",
    "import statsmodels\n",
    "import sklearn \n",
    "from collections import defaultdict\n",
    "import pandas as pd\n",
    "from surprise import SVD\n",
    "from surprise import Dataset\n",
    "from surprise import evaluate, print_perf\n",
    "from surprise import Reader\n",
    "from surprise import KNNBasic\n",
    "\n",
    "# iPython command to format matplotlib plots\n",
    "%matplotlib inline"
   ]
  },
  {
   "cell_type": "code",
   "execution_count": 2,
   "metadata": {
    "collapsed": true
   },
   "outputs": [],
   "source": [
    "import json\n",
    "\n",
    "'''\n",
    "load_data(filepath) \n",
    "Given a filepath to a JSON file, loads in the file and formats the JSON\n",
    "'''\n",
    "def load_data(filepath,n_samples):\n",
    "    data = []\n",
    "    count = 0\n",
    "    # Open file and read in line by line\n",
    "    with open(filepath) as file:\n",
    "        for line in file:\n",
    "            # Strip out trailing whitespace at the end of the line\n",
    "            data.append(json.loads(line.rstrip()))\n",
    "            count +=1\n",
    "            if count == n_samples:\n",
    "                break\n",
    "            else:\n",
    "                pass\n",
    "    print \"Data with {} entries laodad\".format(count)\n",
    "    return data"
   ]
  },
  {
   "cell_type": "code",
   "execution_count": 3,
   "metadata": {
    "collapsed": false
   },
   "outputs": [
    {
     "name": "stdout",
     "output_type": "stream",
     "text": [
      "Data with 50000 entries laodad\n"
     ]
    }
   ],
   "source": [
    "data = load_data(\"review.json\",n_samples=50000)"
   ]
  },
  {
   "cell_type": "markdown",
   "metadata": {},
   "source": [
    "**review.json**\n",
    "Contains full review text data including the user_id that<br>\n",
    "wrote the review and the business_id the review is written for.<br>\n",
    "\n",
    "{\n",
    "\n",
    "    // string, 22 character unique review id\n",
    "    \"review_id\": \"zdSx_SD6obEhz9VrW9uAWA\",\n",
    "\n",
    "    // string, 22 character unique user id, maps to the user in user.json\n",
    "    \"user_id\": \"Ha3iJu77CxlrFm-vQRs_8g\",\n",
    "\n",
    "    // string, 22 character business id, maps to business in business.json\n",
    "    \"business_id\": \"tnhfDv5Il8EaGSXZGiuQGg\",\n",
    "\n",
    "    // integer, star rating\n",
    "    \"stars\": 4,\n",
    "\n",
    "    // string, date formatted YYYY-MM-DD\n",
    "    \"date\": \"2016-03-09\",\n",
    "\n",
    "    // string, the review itself\n",
    "    \"text\": \"Great place to hang out after work: the prices are decent, and the ambience is fun. It's a bit loud, but very lively. The staff is friendly, and the food is good. They have a good selection of drinks.\",\n",
    "\n",
    "    // integer, number of useful votes received\n",
    "    \"useful\": 0,\n",
    "\n",
    "    // integer, number of funny votes received\n",
    "    \"funny\": 0,\n",
    "\n",
    "    // integer, number of cool votes received\n",
    "    \"cool\": 0\n",
    "    \n",
    "}\n"
   ]
  },
  {
   "cell_type": "code",
   "execution_count": 4,
   "metadata": {
    "collapsed": false
   },
   "outputs": [
    {
     "data": {
      "text/html": [
       "<div>\n",
       "<style>\n",
       "    .dataframe thead tr:only-child th {\n",
       "        text-align: right;\n",
       "    }\n",
       "\n",
       "    .dataframe thead th {\n",
       "        text-align: left;\n",
       "    }\n",
       "\n",
       "    .dataframe tbody tr th {\n",
       "        vertical-align: top;\n",
       "    }\n",
       "</style>\n",
       "<table border=\"1\" class=\"dataframe\">\n",
       "  <thead>\n",
       "    <tr style=\"text-align: right;\">\n",
       "      <th></th>\n",
       "      <th>business_id</th>\n",
       "      <th>cool</th>\n",
       "      <th>date</th>\n",
       "      <th>funny</th>\n",
       "      <th>review_id</th>\n",
       "      <th>stars</th>\n",
       "      <th>text</th>\n",
       "      <th>useful</th>\n",
       "      <th>user_id</th>\n",
       "    </tr>\n",
       "  </thead>\n",
       "  <tbody>\n",
       "    <tr>\n",
       "      <th>0</th>\n",
       "      <td>uYHaNptLzDLoV_JZ_MuzUA</td>\n",
       "      <td>0</td>\n",
       "      <td>2016-07-12</td>\n",
       "      <td>0</td>\n",
       "      <td>VfBHSwC5Vz_pbFluy07i9Q</td>\n",
       "      <td>5</td>\n",
       "      <td>My girlfriend and I stayed here for 3 nights a...</td>\n",
       "      <td>0</td>\n",
       "      <td>cjpdDjZyprfyDG3RlkVG3w</td>\n",
       "    </tr>\n",
       "    <tr>\n",
       "      <th>1</th>\n",
       "      <td>uYHaNptLzDLoV_JZ_MuzUA</td>\n",
       "      <td>0</td>\n",
       "      <td>2016-10-02</td>\n",
       "      <td>0</td>\n",
       "      <td>3zRpneRKDsOPq92tq7ybAA</td>\n",
       "      <td>3</td>\n",
       "      <td>If you need an inexpensive place to stay for a...</td>\n",
       "      <td>0</td>\n",
       "      <td>bjTcT8Ty4cJZhEOEo01FGA</td>\n",
       "    </tr>\n",
       "    <tr>\n",
       "      <th>2</th>\n",
       "      <td>uYHaNptLzDLoV_JZ_MuzUA</td>\n",
       "      <td>0</td>\n",
       "      <td>2015-09-17</td>\n",
       "      <td>0</td>\n",
       "      <td>ne5WhI1jUFOcRn-b-gAzHA</td>\n",
       "      <td>3</td>\n",
       "      <td>Mittlerweile gibt es in Edinburgh zwei Ableger...</td>\n",
       "      <td>0</td>\n",
       "      <td>AXgRULmWcME7J6Ix3I--ww</td>\n",
       "    </tr>\n",
       "    <tr>\n",
       "      <th>3</th>\n",
       "      <td>uYHaNptLzDLoV_JZ_MuzUA</td>\n",
       "      <td>0</td>\n",
       "      <td>2016-08-21</td>\n",
       "      <td>0</td>\n",
       "      <td>llmdwOgDReucVoWEry61Lw</td>\n",
       "      <td>4</td>\n",
       "      <td>Location is everything and this hotel has it! ...</td>\n",
       "      <td>0</td>\n",
       "      <td>oU2SSOmsp_A8JYI7Z2JJ5w</td>\n",
       "    </tr>\n",
       "    <tr>\n",
       "      <th>4</th>\n",
       "      <td>uYHaNptLzDLoV_JZ_MuzUA</td>\n",
       "      <td>0</td>\n",
       "      <td>2013-11-20</td>\n",
       "      <td>0</td>\n",
       "      <td>DuffS87NaSMDmIfluvT83g</td>\n",
       "      <td>5</td>\n",
       "      <td>gute lage im stadtzentrum. shoppingmeile und s...</td>\n",
       "      <td>0</td>\n",
       "      <td>0xtbPEna2Kei11vsU-U2Mw</td>\n",
       "    </tr>\n",
       "  </tbody>\n",
       "</table>\n",
       "</div>"
      ],
      "text/plain": [
       "              business_id  cool        date  funny               review_id  \\\n",
       "0  uYHaNptLzDLoV_JZ_MuzUA     0  2016-07-12      0  VfBHSwC5Vz_pbFluy07i9Q   \n",
       "1  uYHaNptLzDLoV_JZ_MuzUA     0  2016-10-02      0  3zRpneRKDsOPq92tq7ybAA   \n",
       "2  uYHaNptLzDLoV_JZ_MuzUA     0  2015-09-17      0  ne5WhI1jUFOcRn-b-gAzHA   \n",
       "3  uYHaNptLzDLoV_JZ_MuzUA     0  2016-08-21      0  llmdwOgDReucVoWEry61Lw   \n",
       "4  uYHaNptLzDLoV_JZ_MuzUA     0  2013-11-20      0  DuffS87NaSMDmIfluvT83g   \n",
       "\n",
       "   stars                                               text  useful  \\\n",
       "0      5  My girlfriend and I stayed here for 3 nights a...       0   \n",
       "1      3  If you need an inexpensive place to stay for a...       0   \n",
       "2      3  Mittlerweile gibt es in Edinburgh zwei Ableger...       0   \n",
       "3      4  Location is everything and this hotel has it! ...       0   \n",
       "4      5  gute lage im stadtzentrum. shoppingmeile und s...       0   \n",
       "\n",
       "                  user_id  \n",
       "0  cjpdDjZyprfyDG3RlkVG3w  \n",
       "1  bjTcT8Ty4cJZhEOEo01FGA  \n",
       "2  AXgRULmWcME7J6Ix3I--ww  \n",
       "3  oU2SSOmsp_A8JYI7Z2JJ5w  \n",
       "4  0xtbPEna2Kei11vsU-U2Mw  "
      ]
     },
     "execution_count": 4,
     "metadata": {},
     "output_type": "execute_result"
    }
   ],
   "source": [
    "df = pd.DataFrame(data=data)\n",
    "df.head()"
   ]
  },
  {
   "cell_type": "code",
   "execution_count": 5,
   "metadata": {
    "collapsed": false
   },
   "outputs": [
    {
     "data": {
      "text/html": [
       "<div>\n",
       "<style>\n",
       "    .dataframe thead tr:only-child th {\n",
       "        text-align: right;\n",
       "    }\n",
       "\n",
       "    .dataframe thead th {\n",
       "        text-align: left;\n",
       "    }\n",
       "\n",
       "    .dataframe tbody tr th {\n",
       "        vertical-align: top;\n",
       "    }\n",
       "</style>\n",
       "<table border=\"1\" class=\"dataframe\">\n",
       "  <thead>\n",
       "    <tr style=\"text-align: right;\">\n",
       "      <th></th>\n",
       "      <th>cool</th>\n",
       "      <th>funny</th>\n",
       "      <th>stars</th>\n",
       "      <th>useful</th>\n",
       "    </tr>\n",
       "  </thead>\n",
       "  <tbody>\n",
       "    <tr>\n",
       "      <th>count</th>\n",
       "      <td>50000.000000</td>\n",
       "      <td>50000.000000</td>\n",
       "      <td>50000.000000</td>\n",
       "      <td>50000.000000</td>\n",
       "    </tr>\n",
       "    <tr>\n",
       "      <th>mean</th>\n",
       "      <td>0.545500</td>\n",
       "      <td>0.418240</td>\n",
       "      <td>3.768300</td>\n",
       "      <td>1.013140</td>\n",
       "    </tr>\n",
       "    <tr>\n",
       "      <th>std</th>\n",
       "      <td>2.022575</td>\n",
       "      <td>1.620965</td>\n",
       "      <td>1.399262</td>\n",
       "      <td>2.447988</td>\n",
       "    </tr>\n",
       "    <tr>\n",
       "      <th>min</th>\n",
       "      <td>0.000000</td>\n",
       "      <td>0.000000</td>\n",
       "      <td>1.000000</td>\n",
       "      <td>0.000000</td>\n",
       "    </tr>\n",
       "    <tr>\n",
       "      <th>25%</th>\n",
       "      <td>0.000000</td>\n",
       "      <td>0.000000</td>\n",
       "      <td>3.000000</td>\n",
       "      <td>0.000000</td>\n",
       "    </tr>\n",
       "    <tr>\n",
       "      <th>50%</th>\n",
       "      <td>0.000000</td>\n",
       "      <td>0.000000</td>\n",
       "      <td>4.000000</td>\n",
       "      <td>0.000000</td>\n",
       "    </tr>\n",
       "    <tr>\n",
       "      <th>75%</th>\n",
       "      <td>0.000000</td>\n",
       "      <td>0.000000</td>\n",
       "      <td>5.000000</td>\n",
       "      <td>1.000000</td>\n",
       "    </tr>\n",
       "    <tr>\n",
       "      <th>max</th>\n",
       "      <td>104.000000</td>\n",
       "      <td>65.000000</td>\n",
       "      <td>5.000000</td>\n",
       "      <td>99.000000</td>\n",
       "    </tr>\n",
       "  </tbody>\n",
       "</table>\n",
       "</div>"
      ],
      "text/plain": [
       "               cool         funny         stars        useful\n",
       "count  50000.000000  50000.000000  50000.000000  50000.000000\n",
       "mean       0.545500      0.418240      3.768300      1.013140\n",
       "std        2.022575      1.620965      1.399262      2.447988\n",
       "min        0.000000      0.000000      1.000000      0.000000\n",
       "25%        0.000000      0.000000      3.000000      0.000000\n",
       "50%        0.000000      0.000000      4.000000      0.000000\n",
       "75%        0.000000      0.000000      5.000000      1.000000\n",
       "max      104.000000     65.000000      5.000000     99.000000"
      ]
     },
     "execution_count": 5,
     "metadata": {},
     "output_type": "execute_result"
    }
   ],
   "source": [
    "#lets get an overview of our numerical predictors coolness,funniness,usefulness and rating\n",
    "df.describe()"
   ]
  },
  {
   "cell_type": "code",
   "execution_count": 6,
   "metadata": {
    "collapsed": false
   },
   "outputs": [
    {
     "name": "stdout",
     "output_type": "stream",
     "text": [
      "Number of unique businesses: 1998\n",
      "Number of unique users: 42744\n",
      "Number of total reviews: 50000\n"
     ]
    }
   ],
   "source": [
    "print \"Number of unique businesses:\",len(df.business_id.unique())\n",
    "print \"Number of unique users:\",len(df.user_id.unique())\n",
    "print \"Number of total reviews:\",len(df)"
   ]
  },
  {
   "cell_type": "code",
   "execution_count": 7,
   "metadata": {
    "collapsed": false
   },
   "outputs": [],
   "source": [
    "star_groups = df.stars.value_counts()\n",
    "star_groups = star_groups.sort_index()"
   ]
  },
  {
   "cell_type": "code",
   "execution_count": 8,
   "metadata": {
    "collapsed": false
   },
   "outputs": [
    {
     "data": {
      "text/plain": [
       "Text(0,0.5,u'Count')"
      ]
     },
     "execution_count": 8,
     "metadata": {},
     "output_type": "execute_result"
    },
    {
     "data": {
      "image/png": "[encoded data removed]",
      "text/plain": [
       "<matplotlib.figure.Figure at 0x113705c10>"
      ]
     },
     "metadata": {},
     "output_type": "display_data"
    }
   ],
   "source": [
    "fix,ax = plt.subplots()\n",
    "ax.bar(star_groups.index,star_groups.values)\n",
    "ax.set_xlabel(\"Stars\")\n",
    "ax.set_ylabel(\"Count\")"
   ]
  },
  {
   "cell_type": "code",
   "execution_count": 9,
   "metadata": {
    "collapsed": false
   },
   "outputs": [],
   "source": [
    "surprise_df = df[['user_id','business_id','stars']]\n",
    "#surprise_df.columns = ['userID' ,'itemID', 'rating'] #renaming the columns"
   ]
  },
  {
   "cell_type": "code",
   "execution_count": 10,
   "metadata": {
    "collapsed": false
   },
   "outputs": [],
   "source": [
    "# A reader is still needed but only the rating_scale param is requiered.\n",
    "reader = Reader(rating_scale=(1, 5))\n",
    "# The columns must correspond to user id, item id and ratings (in that order).\n",
    "data = Dataset.load_from_df(surprise_df, reader)\n",
    "data.split(n_folds=3)  # data can now be used normally"
   ]
  },
  {
   "cell_type": "code",
   "execution_count": 11,
   "metadata": {
    "collapsed": false
   },
   "outputs": [
    {
     "name": "stdout",
     "output_type": "stream",
     "text": [
      "Evaluating RMSE, MAE of algorithm SVD.\n",
      "\n",
      "------------\n",
      "Fold 1\n",
      "RMSE: 1.2647\n",
      "MAE:  1.0190\n",
      "------------\n",
      "Fold 2\n",
      "RMSE: 1.2768\n",
      "MAE:  1.0304\n",
      "------------\n",
      "Fold 3\n",
      "RMSE: 1.2801\n",
      "MAE:  1.0299\n",
      "------------\n",
      "------------\n",
      "Mean RMSE: 1.2739\n",
      "Mean MAE : 1.0264\n",
      "------------\n",
      "------------\n",
      "        Fold 1  Fold 2  Fold 3  Mean    \n",
      "MAE     1.0190  1.0304  1.0299  1.0264  \n",
      "RMSE    1.2647  1.2768  1.2801  1.2739  \n"
     ]
    }
   ],
   "source": [
    "# We'll use the SVD algorithm.\n",
    "algo = SVD()\n",
    "\n",
    "# Evaluate performances of our algorithm on the dataset.\n",
    "perf = evaluate(algo, data, measures=['RMSE', 'MAE'])\n",
    "\n",
    "print_perf(perf)"
   ]
  },
  {
   "cell_type": "code",
   "execution_count": 12,
   "metadata": {
    "collapsed": true
   },
   "outputs": [],
   "source": [
    "# Now let us predict but before that we have to train\n",
    "\n",
    "# Retrieve the trainset the algo above\n",
    "trainset = data.build_full_trainset()\n",
    "algo.train(trainset)"
   ]
  },
  {
   "cell_type": "code",
   "execution_count": 13,
   "metadata": {
    "collapsed": false
   },
   "outputs": [
    {
     "name": "stdout",
     "output_type": "stream",
     "text": [
      "[u'eB-ryqGBIVeNL0-mm88r0g' u'0jHZk9RrKh0uRhTRW1XIqQ' 5]\n",
      "[u'bK5l6tLywoLXZ9Nf9By3Uw' u'tulUhFYMvBkYHsjmn30A9w' 3]\n"
     ]
    }
   ],
   "source": [
    "case1 = surprise_df.values[12922]\n",
    "case2 = surprise_df.values[8932]\n",
    "print case1\n",
    "print case2"
   ]
  },
  {
   "cell_type": "code",
   "execution_count": 14,
   "metadata": {
    "collapsed": false
   },
   "outputs": [
    {
     "name": "stdout",
     "output_type": "stream",
     "text": [
      "user: eB-ryqGBIVeNL0-mm88r0g item: 0jHZk9RrKh0uRhTRW1XIqQ r_ui = 5.00   est = 4.66   {u'was_impossible': False}\n",
      "user: bK5l6tLywoLXZ9Nf9By3Uw item: tulUhFYMvBkYHsjmn30A9w r_ui = 3.00   est = 3.06   {u'was_impossible': False}\n"
     ]
    }
   ],
   "source": [
    "#Let us predict for the above scenario: userID and businessID and ground truth of 5 stars\n",
    "##################### CASE 1 #########################\n",
    "user_id = case1[0]  # raw user id (as in the ratings file)\n",
    "item_id = case1[1]  # raw item id (as in the ratings file)\n",
    "true_rating = case1[2] # true rating of the pair\n",
    "# get a prediction for specific users and items.\n",
    "pred = algo.predict(user_id, item_id, r_ui=true_rating, verbose=True)\n",
    "##################### CASE 2 #########################\n",
    "user_id = case2[0]  # raw user id (as in the ratings file)\n",
    "item_id = case2[1]  # raw item id (as in the ratings file)\n",
    "true_rating = case2[2] # true rating of the pair\n",
    "# get a prediction for specific users and items.\n",
    "pred = algo.predict(user_id, item_id, r_ui=true_rating, verbose=True)"
   ]
  },
  {
   "cell_type": "code",
   "execution_count": 15,
   "metadata": {
    "collapsed": false
   },
   "outputs": [],
   "source": [
    "#Lets have a look at what we recommended as most similar to a given business"
   ]
  },
  {
   "cell_type": "code",
   "execution_count": 16,
   "metadata": {
    "collapsed": false
   },
   "outputs": [
    {
     "name": "stdout",
     "output_type": "stream",
     "text": [
      "Data with 100000 entries laodad\n",
      "Data with 100000 entries laodad\n"
     ]
    }
   ],
   "source": [
    "business = load_data(\"business.json\",n_samples=100000)\n",
    "user = load_data('user.json',n_samples=100000)"
   ]
  },
  {
   "cell_type": "code",
   "execution_count": 17,
   "metadata": {
    "collapsed": false
   },
   "outputs": [],
   "source": [
    "business_df = pd.DataFrame(data=business)\n",
    "user_df = pd.DataFrame(data=user)"
   ]
  },
  {
   "cell_type": "code",
   "execution_count": 18,
   "metadata": {
    "collapsed": false
   },
   "outputs": [
    {
     "name": "stdout",
     "output_type": "stream",
     "text": [
      "Index([u'address', u'attributes', u'business_id', u'categories', u'city',\n",
      "       u'hours', u'is_open', u'latitude', u'longitude', u'name',\n",
      "       u'neighborhood', u'postal_code', u'review_count', u'stars', u'state'],\n",
      "      dtype='object')\n",
      "Index([u'average_stars', u'compliment_cool', u'compliment_cute',\n",
      "       u'compliment_funny', u'compliment_hot', u'compliment_list',\n",
      "       u'compliment_more', u'compliment_note', u'compliment_photos',\n",
      "       u'compliment_plain', u'compliment_profile', u'compliment_writer',\n",
      "       u'cool', u'elite', u'fans', u'friends', u'funny', u'name',\n",
      "       u'review_count', u'useful', u'user_id', u'yelping_since'],\n",
      "      dtype='object')\n",
      "Index([u'business_id', u'cool', u'date', u'funny', u'review_id', u'stars',\n",
      "       u'text', u'useful', u'user_id'],\n",
      "      dtype='object')\n"
     ]
    }
   ],
   "source": [
    "print business_df.columns\n",
    "print user_df.columns\n",
    "print df.columns"
   ]
  },
  {
   "cell_type": "code",
   "execution_count": 19,
   "metadata": {
    "collapsed": false
   },
   "outputs": [
    {
     "name": "stdout",
     "output_type": "stream",
     "text": [
      "Computing the msd similarity matrix...\n",
      "Done computing similarity matrix.\n"
     ]
    }
   ],
   "source": [
    "sim_options = {'name': 'cosine',\n",
    "               'user_based': False } # compute  similarities between businesses\n",
    "algoKNN = KNNBasic(k=1)\n",
    "algoKNN.train(trainset)"
   ]
  },
  {
   "cell_type": "code",
   "execution_count": 32,
   "metadata": {
    "collapsed": false
   },
   "outputs": [
    {
     "name": "stdout",
     "output_type": "stream",
     "text": [
      "jalA5zHW8ZfY3RSPG7oDxQ\n",
      "496\n"
     ]
    }
   ],
   "source": [
    "# Let us investigate the given business below and find its most similar one\n",
    "business_case_id = str(df.business_id.loc[17329])\n",
    "print business_case_id\n",
    "unique_businesses = pd.DataFrame(df.business_id.unique(),columns=['business_id'])\n",
    "business_case_idx = unique_businesses.loc[unique_businesses.business_id == business_case_id].index.values[0]\n",
    "#print business_case_idx\n",
    "print business_case_idx"
   ]
  },
  {
   "cell_type": "code",
   "execution_count": 34,
   "metadata": {
    "collapsed": false
   },
   "outputs": [],
   "source": [
    "neighbor_business_idx = algoKNN.get_neighbors(business_case_idx,k=1)[0]"
   ]
  },
  {
   "cell_type": "code",
   "execution_count": 35,
   "metadata": {
    "collapsed": false
   },
   "outputs": [
    {
     "name": "stdout",
     "output_type": "stream",
     "text": [
      "jalA5zHW8ZfY3RSPG7oDxQ\n",
      "ShnXvNkJKsDIQaGJeM0L6w\n"
     ]
    }
   ],
   "source": [
    "neighbor_business_id = str(unique_businesses.iloc[neighbor_business_idx][0])\n",
    "print business_case_id\n",
    "print neighbor_business_id"
   ]
  },
  {
   "cell_type": "code",
   "execution_count": 36,
   "metadata": {
    "collapsed": false
   },
   "outputs": [
    {
     "data": {
      "text/html": [
       "<div>\n",
       "<style>\n",
       "    .dataframe thead tr:only-child th {\n",
       "        text-align: right;\n",
       "    }\n",
       "\n",
       "    .dataframe thead th {\n",
       "        text-align: left;\n",
       "    }\n",
       "\n",
       "    .dataframe tbody tr th {\n",
       "        vertical-align: top;\n",
       "    }\n",
       "</style>\n",
       "<table border=\"1\" class=\"dataframe\">\n",
       "  <thead>\n",
       "    <tr style=\"text-align: right;\">\n",
       "      <th></th>\n",
       "      <th>address</th>\n",
       "      <th>attributes</th>\n",
       "      <th>business_id</th>\n",
       "      <th>categories</th>\n",
       "      <th>city</th>\n",
       "      <th>hours</th>\n",
       "      <th>is_open</th>\n",
       "      <th>latitude</th>\n",
       "      <th>longitude</th>\n",
       "      <th>name</th>\n",
       "      <th>neighborhood</th>\n",
       "      <th>postal_code</th>\n",
       "      <th>review_count</th>\n",
       "      <th>stars</th>\n",
       "      <th>state</th>\n",
       "    </tr>\n",
       "  </thead>\n",
       "  <tbody>\n",
       "    <tr>\n",
       "      <th>29091</th>\n",
       "      <td>1107 E Carson St</td>\n",
       "      <td>{u'GoodForMeal': {u'dessert': False, u'latenig...</td>\n",
       "      <td>jalA5zHW8ZfY3RSPG7oDxQ</td>\n",
       "      <td>[French, Mediterranean, Restaurants]</td>\n",
       "      <td>Pittsburgh</td>\n",
       "      <td>{u'Tuesday': u'11:00-14:00', u'Friday': u'11:0...</td>\n",
       "      <td>1</td>\n",
       "      <td>40.428895</td>\n",
       "      <td>-79.987145</td>\n",
       "      <td>Cafe Du Jour</td>\n",
       "      <td>South Side</td>\n",
       "      <td>15203</td>\n",
       "      <td>142</td>\n",
       "      <td>4.5</td>\n",
       "      <td>PA</td>\n",
       "    </tr>\n",
       "  </tbody>\n",
       "</table>\n",
       "</div>"
      ],
      "text/plain": [
       "                address                                         attributes  \\\n",
       "29091  1107 E Carson St  {u'GoodForMeal': {u'dessert': False, u'latenig...   \n",
       "\n",
       "                  business_id                            categories  \\\n",
       "29091  jalA5zHW8ZfY3RSPG7oDxQ  [French, Mediterranean, Restaurants]   \n",
       "\n",
       "             city                                              hours  is_open  \\\n",
       "29091  Pittsburgh  {u'Tuesday': u'11:00-14:00', u'Friday': u'11:0...        1   \n",
       "\n",
       "        latitude  longitude          name neighborhood postal_code  \\\n",
       "29091  40.428895 -79.987145  Cafe Du Jour   South Side       15203   \n",
       "\n",
       "       review_count  stars state  \n",
       "29091           142    4.5    PA  "
      ]
     },
     "execution_count": 36,
     "metadata": {},
     "output_type": "execute_result"
    }
   ],
   "source": [
    "#Lets compare both business\n",
    "business_df.loc[business_df['business_id'] == business_case_id]\n"
   ]
  },
  {
   "cell_type": "code",
   "execution_count": 37,
   "metadata": {
    "collapsed": false
   },
   "outputs": [
    {
     "data": {
      "text/html": [
       "<div>\n",
       "<style>\n",
       "    .dataframe thead tr:only-child th {\n",
       "        text-align: right;\n",
       "    }\n",
       "\n",
       "    .dataframe thead th {\n",
       "        text-align: left;\n",
       "    }\n",
       "\n",
       "    .dataframe tbody tr th {\n",
       "        vertical-align: top;\n",
       "    }\n",
       "</style>\n",
       "<table border=\"1\" class=\"dataframe\">\n",
       "  <thead>\n",
       "    <tr style=\"text-align: right;\">\n",
       "      <th></th>\n",
       "      <th>address</th>\n",
       "      <th>attributes</th>\n",
       "      <th>business_id</th>\n",
       "      <th>categories</th>\n",
       "      <th>city</th>\n",
       "      <th>hours</th>\n",
       "      <th>is_open</th>\n",
       "      <th>latitude</th>\n",
       "      <th>longitude</th>\n",
       "      <th>name</th>\n",
       "      <th>neighborhood</th>\n",
       "      <th>postal_code</th>\n",
       "      <th>review_count</th>\n",
       "      <th>stars</th>\n",
       "      <th>state</th>\n",
       "    </tr>\n",
       "  </thead>\n",
       "  <tbody>\n",
       "    <tr>\n",
       "      <th>2338</th>\n",
       "      <td>4520 N Tryon St, Ste 25</td>\n",
       "      <td>{u'GoodForMeal': {u'dessert': False, u'latenig...</td>\n",
       "      <td>ShnXvNkJKsDIQaGJeM0L6w</td>\n",
       "      <td>[Chinese, Food, Meat Shops, Restaurants, Barbe...</td>\n",
       "      <td>Charlotte</td>\n",
       "      <td>{u'Monday': u'10:00-20:00', u'Tuesday': u'10:0...</td>\n",
       "      <td>0</td>\n",
       "      <td>35.256185</td>\n",
       "      <td>-80.791179</td>\n",
       "      <td>Hong Kong BBQ</td>\n",
       "      <td>NoDa</td>\n",
       "      <td>28213</td>\n",
       "      <td>7</td>\n",
       "      <td>4.0</td>\n",
       "      <td>NC</td>\n",
       "    </tr>\n",
       "  </tbody>\n",
       "</table>\n",
       "</div>"
      ],
      "text/plain": [
       "                      address  \\\n",
       "2338  4520 N Tryon St, Ste 25   \n",
       "\n",
       "                                             attributes  \\\n",
       "2338  {u'GoodForMeal': {u'dessert': False, u'latenig...   \n",
       "\n",
       "                 business_id  \\\n",
       "2338  ShnXvNkJKsDIQaGJeM0L6w   \n",
       "\n",
       "                                             categories       city  \\\n",
       "2338  [Chinese, Food, Meat Shops, Restaurants, Barbe...  Charlotte   \n",
       "\n",
       "                                                  hours  is_open   latitude  \\\n",
       "2338  {u'Monday': u'10:00-20:00', u'Tuesday': u'10:0...        0  35.256185   \n",
       "\n",
       "      longitude           name neighborhood postal_code  review_count  stars  \\\n",
       "2338 -80.791179  Hong Kong BBQ         NoDa       28213             7    4.0   \n",
       "\n",
       "     state  \n",
       "2338    NC  "
      ]
     },
     "execution_count": 37,
     "metadata": {},
     "output_type": "execute_result"
    }
   ],
   "source": [
    "#and its neighbor\n",
    "business_df.loc[business_df['business_id'] == neighbor_business_id]"
   ]
  },
  {
   "cell_type": "code",
   "execution_count": 38,
   "metadata": {
    "collapsed": true
   },
   "outputs": [],
   "source": [
    "# So we can see above that both business have similar catoegories and the same attributes"
   ]
  }
 ],
 "metadata": {
  "kernelspec": {
   "display_name": "Python 2",
   "language": "python",
   "name": "python2"
  },
  "language_info": {
   "codemirror_mode": {
    "name": "ipython",
    "version": 2
   },
   "file_extension": ".py",
   "mimetype": "text/x-python",
   "name": "python",
   "nbconvert_exporter": "python",
   "pygments_lexer": "ipython2",
   "version": "2.7.13"
  }
 },
 "nbformat": 4,
 "nbformat_minor": 2
}
